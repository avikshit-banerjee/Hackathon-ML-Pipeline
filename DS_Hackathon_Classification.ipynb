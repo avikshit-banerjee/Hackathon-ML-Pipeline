{
  "cells": [
    {
      "cell_type": "markdown",
      "metadata": {
        "id": "pOyqYHTk_Q57"
      },
      "source": [
        "### Importing the libraries"
      ]
    },
    {
      "cell_type": "code",
      "execution_count": 3,
      "metadata": {
        "colab": {
          "base_uri": "https://localhost:8080/"
        },
        "id": "mANgWLZcgihC",
        "outputId": "51c24dac-3a8c-41bc-9d49-0d5270fcf271"
      },
      "outputs": [
        {
          "name": "stdout",
          "output_type": "stream",
          "text": [
            "Looking in indexes: https://pypi.org/simple, https://us-python.pkg.dev/colab-wheels/public/simple/\n",
            "Requirement already satisfied: numpy in /usr/local/lib/python3.7/dist-packages (1.21.6)\n"
          ]
        }
      ],
      "source": [
        "!pip install ppscore\n",
        "!pip install --upgrade pandas\n",
        "!pip install --upgrade numpy"
      ]
    },
    {
      "cell_type": "code",
      "execution_count": 4,
      "metadata": {
        "id": "T_YHJjnD_Tja"
      },
      "outputs": [],
      "source": [
        "import imblearn\n",
        "import numpy as np\n",
        "import matplotlib.pyplot as plt\n",
        "%matplotlib inline \n",
        "import seaborn as sns\n",
        "import pandas as pd\n",
        "import ppscore as pps\n",
        "from progressbar import ProgressBar\n",
        "pbar = ProgressBar()  #for showing iteration progress\n",
        "\n",
        "from sklearn import metrics\n",
        "from sklearn.pipeline import Pipeline\n",
        "from imblearn.pipeline import Pipeline as pline\n",
        "from sklearn import preprocessing\n",
        "from sklearn.metrics import roc_auc_score,auc, roc_curve, average_precision_score\n",
        "from sklearn.metrics import mean_squared_log_error\n",
        "from math import sqrt\n",
        "from sklearn.model_selection import train_test_split\n",
        "from IPython.display import Image  \n",
        "from sklearn import tree\n",
        "from os import system"
      ]
    },
    {
      "cell_type": "markdown",
      "metadata": {
        "id": "vgC61-ah_WIz"
      },
      "source": [
        "### Importing the dataset"
      ]
    },
    {
      "cell_type": "code",
      "execution_count": 5,
      "metadata": {
        "id": "UrxyEKGn_ez7"
      },
      "outputs": [],
      "source": [
        "train = pd.read_csv(\"train.csv\")\n",
        "test  = pd.read_csv(\"test.csv\")\n",
        "sample  = pd.read_csv(\"sampleSubmission.csv\")"
      ]
    },
    {
      "cell_type": "code",
      "execution_count": null,
      "metadata": {
        "colab": {
          "base_uri": "https://localhost:8080/",
          "height": 270
        },
        "id": "S1BfiPDiV-7B",
        "outputId": "b9ea2e2d-c343-4f60-e7b0-50b76378bf44"
      },
      "outputs": [],
      "source": [
        "train.head(5)"
      ]
    },
    {
      "cell_type": "code",
      "execution_count": null,
      "metadata": {
        "id": "AAFmRoTqWC3Z"
      },
      "outputs": [],
      "source": [
        "train.info()"
      ]
    },
    {
      "cell_type": "code",
      "execution_count": null,
      "metadata": {
        "id": "eVEXJp-cWFhQ"
      },
      "outputs": [],
      "source": [
        "test.head(5)"
      ]
    },
    {
      "cell_type": "code",
      "execution_count": null,
      "metadata": {
        "id": "xv_XuY8NWGKE"
      },
      "outputs": [],
      "source": [
        "test.info()"
      ]
    },
    {
      "cell_type": "code",
      "execution_count": 6,
      "metadata": {
        "id": "xLfT6tPkVvzx"
      },
      "outputs": [],
      "source": [
        "# Add identifying column\n",
        "train['set'] = 'train'\n",
        "test['set'] = 'test'\n",
        "test['churn'] = np.nan\n",
        "\n",
        "# Append the dataframes\n",
        "df_app = train.append(test, ignore_index = True)"
      ]
    },
    {
      "cell_type": "code",
      "execution_count": null,
      "metadata": {
        "id": "PuOMYosWshUa"
      },
      "outputs": [],
      "source": [
        "df_app.describe().T   # five point summary of the continuous attributes"
      ]
    },
    {
      "cell_type": "code",
      "execution_count": 8,
      "metadata": {
        "colab": {
          "base_uri": "https://localhost:8080/"
        },
        "id": "inkRpEfagqjo",
        "outputId": "1fa1fc6e-f48f-4564-facb-a45e30a01f45"
      },
      "outputs": [
        {
          "data": {
            "text/plain": [
              "no     3652\n",
              "yes     598\n",
              "Name: churn, dtype: int64"
            ]
          },
          "execution_count": 8,
          "metadata": {},
          "output_type": "execute_result"
        }
      ],
      "source": [
        "df_app.churn.value_counts()"
      ]
    },
    {
      "cell_type": "code",
      "execution_count": null,
      "metadata": {
        "id": "NfEKxmTHl1bS"
      },
      "outputs": [],
      "source": [
        "# y = train.churn\n",
        "# train.drop('churn', axis=1, inplace=True)"
      ]
    },
    {
      "cell_type": "code",
      "execution_count": null,
      "metadata": {
        "id": "rzHik8WalspD"
      },
      "outputs": [],
      "source": [
        "# train = train.reset_index(drop=True)\n",
        "# test = test.reset_index(drop=True)\n",
        "# train"
      ]
    },
    {
      "cell_type": "markdown",
      "metadata": {
        "id": "GfhcGUfMUUdU"
      },
      "source": [
        "### Visualising the data"
      ]
    },
    {
      "cell_type": "code",
      "execution_count": null,
      "metadata": {
        "id": "1tJCXSHOUSDa"
      },
      "outputs": [],
      "source": [
        "plt.figure(figsize=(25,25))\n",
        "sns.barplot(x=\"total_night_minutes\",y=\"churn\", data=df_train)\n",
        "\n",
        "#-----------------------------------\n",
        "plt.figure(figsize= (20,15))\n",
        "plt.subplot(3,1,1)\n",
        "sns.boxplot(x= df.bmi, color='lightblue')\n",
        "\n",
        "plt.subplot(3,1,2)\n",
        "sns.boxplot(x= df.age, color='lightblue')\n",
        "\n",
        "plt.subplot(3,1,3)\n",
        "sns.boxplot(x= df.charges, color='lightblue')\n",
        "\n",
        "plt.show()"
      ]
    },
    {
      "cell_type": "code",
      "execution_count": null,
      "metadata": {
        "id": "IK22M2B6nu9T"
      },
      "outputs": [],
      "source": [
        "#-----------------------------------------\n",
        "#To check for data skew and for outliers\n",
        "train.skew()\n",
        "\n",
        "#To check correlations between the features\n",
        "plt.figure(figsize=(15,10))\n",
        "sns.heatmap(train.corr(), annot = True)\n",
        "\n",
        "#To check the distribution of the features and check for outliers\n",
        "train.plot(kind='density', subplots =True, layout=(3,3),sharex=False, figsize=(15,10))\n",
        "plt.show()\n",
        "\n",
        "#Checking for correlations \n",
        "sns.pairplot(train, diag_kind= \"kde\")  #pairplot\n",
        "plt.show()"
      ]
    },
    {
      "cell_type": "markdown",
      "metadata": {
        "id": "8NFLlAKbYWhN"
      },
      "source": [
        "### Checking for outliers in the data"
      ]
    },
    {
      "cell_type": "code",
      "execution_count": null,
      "metadata": {
        "id": "l-WT3MIAYW9c"
      },
      "outputs": [],
      "source": [
        "plt.figure(figsize= (20,15))\n",
        "plt.subplot(3,1,1)\n",
        "sns.boxplot(x= df.column_name, color='lightblue')\n",
        "\n",
        "plt.subplot(3,1,2)\n",
        "sns.boxplot(x= df.column_name, color='lightblue')\n",
        "\n",
        "plt.subplot(3,1,3)\n",
        "sns.boxplot(x= df.column_name, color='lightblue')\n",
        "\n",
        "plt.show()"
      ]
    },
    {
      "cell_type": "markdown",
      "metadata": {
        "id": "6cQGZDGsrdGA"
      },
      "source": [
        "### Removing duplicate rows from data if present :\n"
      ]
    },
    {
      "cell_type": "code",
      "execution_count": null,
      "metadata": {
        "colab": {
          "base_uri": "https://localhost:8080/"
        },
        "id": "1dJvSKF7rfar",
        "outputId": "2b8bd807-f861-49b2-85f6-2f722b76d39b"
      },
      "outputs": [
        {
          "name": "stdout",
          "output_type": "stream",
          "text": [
            "BEFORE REMOVING DUPLICATES - No. of Rows =  5000\n",
            "AFTER REMOVING DUPLICATES  - No. of Rows =  5000\n"
          ]
        }
      ],
      "source": [
        "def remove_duplicate(data):\n",
        "    \n",
        "    print(\"BEFORE REMOVING DUPLICATES - No. of Rows = \",data.shape[0])\n",
        "    data.drop_duplicates(keep=\"first\", inplace=True) \n",
        "    print(\"AFTER REMOVING DUPLICATES  - No. of Rows = \",data.shape[0])\n",
        "    \n",
        "    return data\n",
        "\n",
        "# Remove Duplicates from data :\n",
        "\n",
        "df_app = remove_duplicate(df_app)\n",
        "train = remove_duplicate(train)\n",
        "test = remove_duplicate(test)"
      ]
    },
    {
      "cell_type": "markdown",
      "metadata": {
        "id": "-0djToKXppJC"
      },
      "source": [
        "### Treating Missing Values\n",
        "\n",
        "For Categorical variables, it's best to perform 'mode' replacement. For numeric values, we shall be performing 'permanent mean matching' (pmm)."
      ]
    },
    {
      "cell_type": "code",
      "execution_count": null,
      "metadata": {
        "id": "Qj2kxQjazxBI"
      },
      "outputs": [],
      "source": [
        "df_app.isna().sum()"
      ]
    },
    {
      "cell_type": "code",
      "execution_count": null,
      "metadata": {
        "id": "oJE0bwHthTvT"
      },
      "outputs": [],
      "source": [
        "def fill_missing_values(data, fill_value, fill_types, cat_columns, int_columns):\n",
        "    \n",
        "    print(\"Missing Values BEFORE REMOVAL in data\")\n",
        "    display(data.isnull().sum())\n",
        "    for column in cat_columns :\n",
        "        \n",
        "        data[ column ].fillna(data[column].mode(), inplace=True)\n",
        "\n",
        "    for column in int_columns :\n",
        "\n",
        "        \n",
        "        # Fill Missing Values with Specific Value :\n",
        "        if \"Value_Fill\" in fill_types :\n",
        "            data[ column ] = data[ column ].fillna(fill_value)\n",
        "#             print(\"Value_Fill\")\n",
        "\n",
        "        # Fill Missing Values with Forward Fill  (Previous Row Value as Current Row in Table) :\n",
        "        if \"Forward_Fill\" in fill_types :\n",
        "            data[ column ] = data[ column ].ffill(axis = 0)\n",
        "            #df[column] = df.groupby('another_category')[column].ffill(limit = 1)\n",
        "#             print(\"Forward_Fill\")\n",
        "\n",
        "        # Fill Missing Values with Backward Fill (Next Row Value as Current Row in Table) :\n",
        "        if \"Backward_Fill\" in fill_types :\n",
        "            data[ column ] = data[ column ].bfill(axis = 0)\n",
        "#             print(\"Backward_Fill\")\n",
        "    \n",
        "    print(\"Missing Values AFTER REMOVAL in \",dataframe_name,\" data\")\n",
        "    display(data.isnull().sum())\n",
        "    \n",
        "    return data\n",
        "\n",
        "cat_columns = [ \"column_names\"]\n",
        "int_columns = [ \"column_names\"]\n",
        "fill_types = [ \"Forward_Fill\"]\n",
        "fill_value = 0\n",
        "\n",
        "df = fill_missing_values(df, fill_value, fill_types, cat_columns, int_columns ])"
      ]
    },
    {
      "cell_type": "markdown",
      "metadata": {
        "id": "5CABjDxhSgG_"
      },
      "source": [
        "### Converting object data types into categories"
      ]
    },
    {
      "cell_type": "code",
      "execution_count": null,
      "metadata": {
        "id": "yF16733USl_D"
      },
      "outputs": [],
      "source": [
        "df_app.dtypes"
      ]
    },
    {
      "cell_type": "code",
      "execution_count": null,
      "metadata": {
        "colab": {
          "base_uri": "https://localhost:8080/"
        },
        "id": "pQ05Bx-eSfnm",
        "outputId": "8ede597f-8d5c-4dd2-d6d8-4ecccb5262b5"
      },
      "outputs": [],
      "source": [
        "datasets = [df_app]\n",
        "\n",
        "for data in datasets:\n",
        " for feature in data.columns: # Loop through all columns in the dataframe\n",
        "    if data[feature].dtype == 'object': # Only apply for columns with categorical strings\n",
        "        data[feature] = pd.Categorical(data[feature])# Replace strings with an integer\n",
        "df_app.info()"
      ]
    },
    {
      "cell_type": "markdown",
      "metadata": {
        "id": "JpUk6Sm8z6Lj"
      },
      "source": [
        "### Encoding categorical data\n",
        "\n",
        "If there are ordinal categorical data (there is an order to it) then we need to manually label them ordinally (1,2,3..) so as to keep the variance.\n",
        "\n",
        "If there are categorical variables which do not have an order then it's best to one hot encode them (IF THEY ARE NOT TOO MANY), or label encode them in case of many categories."
      ]
    },
    {
      "cell_type": "code",
      "execution_count": 10,
      "metadata": {
        "colab": {
          "base_uri": "https://localhost:8080/"
        },
        "id": "zPa6mb9Fz7hv",
        "outputId": "a370387d-0490-48e7-afe1-48f4e3ad8ec0"
      },
      "outputs": [
        {
          "name": "stdout",
          "output_type": "stream",
          "text": [
            "<class 'pandas.core.frame.DataFrame'>\n",
            "RangeIndex: 5000 entries, 0 to 4999\n",
            "Data columns (total 25 columns):\n",
            " #   Column                         Non-Null Count  Dtype   \n",
            "---  ------                         --------------  -----   \n",
            " 0   state                          5000 non-null   category\n",
            " 1   account_length                 5000 non-null   int64   \n",
            " 2   international_plan             5000 non-null   int64   \n",
            " 3   voice_mail_plan                5000 non-null   int64   \n",
            " 4   number_vmail_messages          5000 non-null   int64   \n",
            " 5   total_day_minutes              5000 non-null   float64 \n",
            " 6   total_day_calls                5000 non-null   int64   \n",
            " 7   total_day_charge               5000 non-null   float64 \n",
            " 8   total_eve_minutes              5000 non-null   float64 \n",
            " 9   total_eve_calls                5000 non-null   int64   \n",
            " 10  total_eve_charge               5000 non-null   float64 \n",
            " 11  total_night_minutes            5000 non-null   float64 \n",
            " 12  total_night_calls              5000 non-null   int64   \n",
            " 13  total_night_charge             5000 non-null   float64 \n",
            " 14  total_intl_minutes             5000 non-null   float64 \n",
            " 15  total_intl_calls               5000 non-null   int64   \n",
            " 16  total_intl_charge              5000 non-null   float64 \n",
            " 17  number_customer_service_calls  5000 non-null   int64   \n",
            " 18  churn                          4250 non-null   float64 \n",
            " 19  set                            5000 non-null   category\n",
            " 20  id                             750 non-null    float64 \n",
            " 21  area_code_area_code_408        5000 non-null   uint8   \n",
            " 22  area_code_area_code_415        5000 non-null   uint8   \n",
            " 23  area_code_area_code_510        5000 non-null   uint8   \n",
            " 24  state_cat                      5000 non-null   int8    \n",
            "dtypes: category(2), float64(10), int64(9), int8(1), uint8(3)\n",
            "memory usage: 774.2 KB\n"
          ]
        }
      ],
      "source": [
        "#those features with order in their categories \n",
        "replaceStruct = {\n",
        "                \"international_plan\":     {\"no\": 0, \"yes\": 1},\n",
        "                \"voice_mail_plan\": {\"no\": 0, \"yes\": 1},\n",
        "                 \"churn\": {\"no\": -1, \"yes\": 1}\n",
        "                    }\n",
        "\n",
        "#those features with NO order in their categories                   \n",
        "oneHotCols=[\"area_code\"]\n",
        "\n",
        "df_app=df_app.replace(replaceStruct)\n",
        "df_app=pd.get_dummies(df_app, columns=oneHotCols)\n",
        "\n",
        "#-------------------------------------------------------------------------------\n",
        "\n",
        "# LabelEncoding columns (In case of encoding an unordered column with a large number of unique values)\n",
        "\n",
        "labelColumns = [\"state\"]\n",
        "le = preprocessing.LabelEncoder()\n",
        "\n",
        "datasets = [df_app]\n",
        "\n",
        "for data in datasets:\n",
        "  for column in labelColumns:\n",
        "      data[column] = data[column].astype('category')\n",
        "      data[column + '_cat'] = data[column].cat.codes\n",
        "\n",
        "df_app.info()"
      ]
    },
    {
      "cell_type": "markdown",
      "metadata": {
        "id": "jU8L9-OlRDc4"
      },
      "source": [
        "### Assigning feature and target variables"
      ]
    },
    {
      "cell_type": "code",
      "execution_count": null,
      "metadata": {
        "id": "KBtv2UOlJoUn"
      },
      "outputs": [],
      "source": [
        "# X = dataset.iloc[:, :-1].values\n",
        "# y = dataset.iloc[:, -1].values\n",
        "\n",
        "# X = df.drop(\"target\" , axis=1)\n",
        "# y = df.pop(\"target\")"
      ]
    },
    {
      "cell_type": "markdown",
      "metadata": {
        "id": "QwxFiOLi2shw"
      },
      "source": [
        "### Scaling and Normalising the data\n",
        "Seperate the response variable before performing scaling"
      ]
    },
    {
      "cell_type": "code",
      "execution_count": null,
      "metadata": {
        "id": "i4nnaWYijuO-"
      },
      "outputs": [],
      "source": [
        "df_app.columns"
      ]
    },
    {
      "cell_type": "code",
      "execution_count": 11,
      "metadata": {
        "id": "99WN-tMj2wKC"
      },
      "outputs": [],
      "source": [
        "from sklearn.preprocessing import StandardScaler\n",
        "from sklearn.preprocessing import MinMaxScaler\n",
        "\n",
        "#Standardisation is generally performed to take care of outliers, if data has outliers then it's used preferably\n",
        "\n",
        "scaler = MinMaxScaler()\n",
        "std_scaler = StandardScaler()\n",
        "\n",
        "scale_columns = ['account_length', 'international_plan', 'voice_mail_plan',\n",
        "       'number_vmail_messages', 'total_day_minutes', 'total_day_calls',\n",
        "       'total_day_charge', 'total_eve_minutes', 'total_eve_calls',\n",
        "       'total_eve_charge', 'total_night_minutes', 'total_night_calls',\n",
        "       'total_night_charge', 'total_intl_minutes', 'total_intl_calls',\n",
        "       'total_intl_charge', 'number_customer_service_calls',\n",
        "        'state_cat']\n",
        "\n",
        "datasets = [df_app]\n",
        "\n",
        "for data in datasets:\n",
        "  for column in scale_columns:\n",
        "    data[column] = scaler.fit_transform(data[column].to_numpy().reshape(-1, 1))"
      ]
    },
    {
      "cell_type": "code",
      "execution_count": null,
      "metadata": {
        "id": "B68GEyH0kVTQ"
      },
      "outputs": [],
      "source": [
        "df_app.head(5)"
      ]
    },
    {
      "cell_type": "code",
      "execution_count": null,
      "metadata": {
        "id": "B8eSbagePEwP"
      },
      "outputs": [],
      "source": [
        "df_app.describe().T"
      ]
    },
    {
      "cell_type": "markdown",
      "metadata": {
        "id": "V7txNOFXU0au"
      },
      "source": [
        "### Feature Engineering"
      ]
    },
    {
      "cell_type": "code",
      "execution_count": null,
      "metadata": {
        "id": "N47Uvk-MCAtN"
      },
      "outputs": [],
      "source": [
        "##correlation matrix. Feature elimination based on multicollinearity\n",
        "corr=train.corr()\n",
        "mask = np.triu(np.ones_like(corr, dtype=np.bool))\n",
        "plt.figure(figsize=(15,10))\n",
        "sns.heatmap(corr,vmin=-1,cmap='coolwarm',annot=True,mask=mask);"
      ]
    },
    {
      "cell_type": "markdown",
      "metadata": {
        "id": "Gjfx9k8GDRot"
      },
      "source": [
        "#### Handling dates and times and seperating them"
      ]
    },
    {
      "cell_type": "code",
      "execution_count": null,
      "metadata": {
        "id": "jBbFPEsIDQwL"
      },
      "outputs": [],
      "source": [
        "# df['DATE'] = pd.to_datetime(df['DATE'], format=\"%m/%d/%Y %H:%M\")\n",
        "\n",
        "# hour=[]\n",
        "# day=[]\n",
        "# dayofweek=[]\n",
        "# month=[]\n",
        "# weekday=[]\n",
        "# for x in df['DATE']:\n",
        "#     hour.append(x.hour)\n",
        "#     day.append(x.day)\n",
        "#     dayofweek.append(x.dayofweek)\n",
        "#     month.append(x.month)\n",
        "#     weekday.append(calendar.day_name[dayofweek[-1]])\n",
        "# df['HOUR']=hour\n",
        "# df['DAY']=day\n",
        "# df['DAY_OF_WEEK']=dayofweek\n",
        "# df['MONTH']=month\n",
        "# df['WEEKDAY']=weekday"
      ]
    },
    {
      "cell_type": "markdown",
      "metadata": {
        "id": "hzQJskaxORkD"
      },
      "source": [
        "#### Using Corr matrix and PPS Score to check for both linear and non linear relationship between the features"
      ]
    },
    {
      "cell_type": "code",
      "execution_count": null,
      "metadata": {
        "id": "Wn1zYhmhOa8B"
      },
      "outputs": [],
      "source": [
        "###pps scores detect all types of relationship present in between variables. But if only linear relationship is of interest pearson corr matrix should still be used\n",
        "df_pps = df_app.drop('state', axis = 1)\n",
        "# train_pps = train.drop('account_length', axis = 1)\n",
        "pps_score=pps.matrix(pd.DataFrame(df_pps))"
      ]
    },
    {
      "cell_type": "code",
      "execution_count": null,
      "metadata": {
        "id": "ARMQ2kMujkel"
      },
      "outputs": [],
      "source": [
        "pps_score"
      ]
    },
    {
      "cell_type": "code",
      "execution_count": null,
      "metadata": {
        "id": "bwr1IHlU70Tm"
      },
      "outputs": [],
      "source": [
        "fig, ax = plt.subplots(figsize=(20,20)) \n",
        "sns.heatmap(pps_score, cmap=\"Reds\", linewidths=3, annot=True,ax=ax,annot_kws={\"fontsize\":10})"
      ]
    },
    {
      "cell_type": "markdown",
      "metadata": {
        "id": "WemVnqgeA70k"
      },
      "source": [
        "### Splitting the dataset into the Training set and Test set"
      ]
    },
    {
      "cell_type": "code",
      "execution_count": 12,
      "metadata": {
        "id": "KQ-BcA_r0KDc"
      },
      "outputs": [],
      "source": [
        "df_new = df_app.drop('state', axis = 1)"
      ]
    },
    {
      "cell_type": "code",
      "execution_count": null,
      "metadata": {
        "id": "bBP5-nQFSM42"
      },
      "outputs": [],
      "source": [
        "train_new = df_new[df_new['set']== 'train']\n",
        "test_new = df_new[df_new['set']== 'test']\n",
        "y = train_new.churn\n",
        "train_new.drop(['id','set', 'churn'], axis = 1, inplace = True)\n",
        "test_new.drop(['id','churn', 'set'], axis = 1, inplace= True)"
      ]
    },
    {
      "cell_type": "code",
      "execution_count": null,
      "metadata": {
        "id": "cnupv2H_ld2X"
      },
      "outputs": [],
      "source": [
        "train_new.info()"
      ]
    },
    {
      "cell_type": "code",
      "execution_count": null,
      "metadata": {
        "id": "qVbzAV0qlgkm"
      },
      "outputs": [],
      "source": [
        "test_new.info()"
      ]
    },
    {
      "cell_type": "code",
      "execution_count": null,
      "metadata": {
        "colab": {
          "base_uri": "https://localhost:8080/"
        },
        "id": "0TkHcK_O8XTi",
        "outputId": "1362c902-6962-4185-ae39-28bd20808267"
      },
      "outputs": [
        {
          "data": {
            "text/plain": [
              "-1.0    3652\n",
              " 1.0     598\n",
              "Name: churn, dtype: int64"
            ]
          },
          "execution_count": 34,
          "metadata": {},
          "output_type": "execute_result"
        }
      ],
      "source": [
        "y.value_counts()"
      ]
    },
    {
      "cell_type": "markdown",
      "metadata": {
        "id": "8i5ADeYrWuiS"
      },
      "source": [
        "### Performing over and under sampling in case of imbalanced binary datasets"
      ]
    },
    {
      "cell_type": "code",
      "execution_count": 16,
      "metadata": {
        "id": "99ZXEgLsW2Db"
      },
      "outputs": [],
      "source": [
        "from imblearn.over_sampling import SMOTE\n",
        "from imblearn.under_sampling import RandomUnderSampler\n",
        "\n",
        "over = SMOTE(sampling_strategy=0.4)\n",
        "under = RandomUnderSampler(sampling_strategy=0.5)\n",
        "\n",
        "steps = [('o', over), ('u', under)]\n",
        "pipeline = pline(steps=steps)\n",
        "\n",
        "# transform the dataset\n",
        "train_samp, y_samp = pipeline.fit_resample(train_new, y)"
      ]
    },
    {
      "cell_type": "code",
      "execution_count": null,
      "metadata": {
        "id": "5rUbpcFRZQhq"
      },
      "outputs": [],
      "source": [
        "train_samp.info()"
      ]
    },
    {
      "cell_type": "code",
      "execution_count": null,
      "metadata": {
        "id": "KnNSeTwoZ2pW"
      },
      "outputs": [],
      "source": [
        "train_samp.head(10)"
      ]
    },
    {
      "cell_type": "code",
      "execution_count": 18,
      "metadata": {
        "colab": {
          "base_uri": "https://localhost:8080/"
        },
        "id": "rsALp0bfYCE9",
        "outputId": "a7a5c3c8-4bf2-438e-d711-ad52765ec617"
      },
      "outputs": [
        {
          "data": {
            "text/plain": [
              "-1.0    2920\n",
              " 1.0    1460\n",
              "Name: churn, dtype: int64"
            ]
          },
          "execution_count": 18,
          "metadata": {},
          "output_type": "execute_result"
        }
      ],
      "source": [
        "y_samp.value_counts()"
      ]
    },
    {
      "cell_type": "code",
      "execution_count": 19,
      "metadata": {
        "colab": {
          "base_uri": "https://localhost:8080/"
        },
        "id": "uNx1m4TtZZ_8",
        "outputId": "3493ec88-cb67-44c6-b021-3b7f153e3c90"
      },
      "outputs": [
        {
          "data": {
            "text/plain": [
              "-1.0    2920\n",
              " 1.0    1460\n",
              "Name: churn, dtype: int64"
            ]
          },
          "execution_count": 19,
          "metadata": {},
          "output_type": "execute_result"
        }
      ],
      "source": [
        "#If over and under sampling is required\n",
        "train_new,y = train_samp, y_samp\n",
        "y.value_counts()"
      ]
    },
    {
      "cell_type": "code",
      "execution_count": null,
      "metadata": {
        "id": "Kb_v_ae-A-20"
      },
      "outputs": [],
      "source": [
        "# from sklearn.model_selection import train_test_split\n",
        "# X_train, X_test, y_train, y_test = train_test_split(train_new, y, test_size = 0.3, random_state = 0)"
      ]
    },
    {
      "cell_type": "markdown",
      "metadata": {
        "id": "Sz0IqkzMTvE8"
      },
      "source": [
        "### Creating a Baseline ML Model"
      ]
    },
    {
      "cell_type": "code",
      "execution_count": 20,
      "metadata": {
        "id": "E4kLdoh0ecZi"
      },
      "outputs": [],
      "source": [
        "from sklearn.tree import DecisionTreeClassifier\n",
        "from sklearn.ensemble import RandomForestClassifier\n",
        "from sklearn.neighbors import KNeighborsClassifier\n",
        "from sklearn.linear_model import LogisticRegression\n",
        "from sklearn.ensemble import StackingClassifier\n",
        "import xgboost\n",
        "\n",
        "from sklearn.model_selection import KFold\n",
        "from sklearn.model_selection import StratifiedKFold\n",
        "from sklearn.model_selection import cross_val_score\n",
        "from sklearn.metrics import balanced_accuracy_score #for imbalanced binary classification"
      ]
    },
    {
      "cell_type": "markdown",
      "metadata": {
        "id": "gnOiHiZqQ3mn"
      },
      "source": [
        "#### Dropping features based on FE"
      ]
    },
    {
      "cell_type": "code",
      "execution_count": 21,
      "metadata": {
        "id": "YW3dh3Xl2DZX"
      },
      "outputs": [],
      "source": [
        "#Dropping features after feature engineering\n",
        "train_new.drop(['voice_mail_plan','area_code_area_code_415', 'area_code_area_code_510'], axis = 1, inplace=True)"
      ]
    },
    {
      "cell_type": "code",
      "execution_count": 22,
      "metadata": {
        "colab": {
          "base_uri": "https://localhost:8080/"
        },
        "id": "qDTRDQLHSEes",
        "outputId": "af5d8f0f-ea28-45ff-ad7c-b245d7edc46b"
      },
      "outputs": [
        {
          "name": "stderr",
          "output_type": "stream",
          "text": [
            "/usr/local/lib/python3.7/dist-packages/pandas/core/frame.py:4913: SettingWithCopyWarning: \n",
            "A value is trying to be set on a copy of a slice from a DataFrame\n",
            "\n",
            "See the caveats in the documentation: https://pandas.pydata.org/pandas-docs/stable/user_guide/indexing.html#returning-a-view-versus-a-copy\n",
            "  errors=errors,\n"
          ]
        }
      ],
      "source": [
        "test_new.drop(['voice_mail_plan','area_code_area_code_415', 'area_code_area_code_510'], axis = 1, inplace=True)"
      ]
    },
    {
      "cell_type": "markdown",
      "metadata": {
        "id": "Yk2mdZ5QZCvF"
      },
      "source": [
        "#### Defining a base DT model"
      ]
    },
    {
      "cell_type": "code",
      "execution_count": null,
      "metadata": {
        "id": "fMG-r9Owua8J"
      },
      "outputs": [],
      "source": [
        "dTree = DecisionTreeClassifier(criterion = 'gini', random_state=1)"
      ]
    },
    {
      "cell_type": "code",
      "execution_count": null,
      "metadata": {
        "id": "jRRbX4eaYhrG"
      },
      "outputs": [],
      "source": [
        "from sklearn.model_selection import train_test_split\n",
        "X_train, X_test, y_train, y_test = train_test_split(train_new, y, test_size = 0.3, random_state = 0)"
      ]
    },
    {
      "cell_type": "markdown",
      "metadata": {
        "id": "CK6Ld6r0ZIqB"
      },
      "source": [
        "#### Plotting optimal tree depth"
      ]
    },
    {
      "cell_type": "code",
      "execution_count": null,
      "metadata": {
        "id": "Gz0UIDrMua27"
      },
      "outputs": [],
      "source": [
        "#Creating a regularised decision tree by pruning\n",
        "depth = []\n",
        "test_score = []\n",
        "\n",
        "for i in range(3,11):\n",
        "  dTreeR = DecisionTreeClassifier(criterion = 'gini', max_depth = i, random_state=1)\n",
        "  dTreeR.fit(X_train, y_train)\n",
        "  #dTreeR.score(X_train, y_train))\n",
        "  depth.append(i)\n",
        "  test_score.append(dTreeR.score(X_test, y_test))\n",
        "\n",
        "sns.set()\n",
        "plt.plot(depth, test_score) #Plotting depth vs. score"
      ]
    },
    {
      "cell_type": "markdown",
      "metadata": {
        "id": "m_fMUWLGZOjW"
      },
      "source": [
        "#### Using Stratified K-Fold CV"
      ]
    },
    {
      "cell_type": "code",
      "execution_count": null,
      "metadata": {
        "id": "fxVYrCELdefU"
      },
      "outputs": [],
      "source": [
        "train_new.info()"
      ]
    },
    {
      "cell_type": "code",
      "execution_count": 35,
      "metadata": {
        "colab": {
          "base_uri": "https://localhost:8080/"
        },
        "id": "4Equ4eT_YqiI",
        "outputId": "4fece14d-d625-455e-87d9-2b3f91dc6d25"
      },
      "outputs": [
        {
          "name": "stderr",
          "output_type": "stream",
          "text": [
            "| |    #                                            | 219 Elapsed Time: 0:13:43"
          ]
        },
        {
          "name": "stdout",
          "output_type": "stream",
          "text": [
            "\n",
            "DecisionTreeClassifier(max_depth=7, random_state=1)Average scores are:  0.9244983542553037\n",
            "DecisionTreeClassifier(max_depth=7, random_state=1)Max score is:  0.9754098360655737 \n",
            "\n",
            "ROC_AUC - CV Score: 0.8977022746662905\n",
            "PRC - Score: 0.8594699817197431 \n",
            "\n",
            "                               Importance\n",
            "total_day_minutes               24.932287\n",
            "number_customer_service_calls   19.787768\n",
            "international_plan              15.085456\n",
            "total_intl_charge                7.358898\n",
            "total_eve_minutes                6.232293\n",
            "total_eve_charge                 5.459852\n",
            "number_vmail_messages            5.317763\n",
            "total_day_charge                 5.121178\n",
            "total_intl_calls                 5.040816\n",
            "total_night_charge               1.611951\n",
            "total_night_minutes              1.139837\n",
            "total_day_calls                  0.903762\n",
            "state_cat                        0.656368\n",
            "total_intl_minutes               0.486028\n",
            "total_eve_calls                  0.295049\n",
            "total_night_calls                0.285433\n",
            "account_length                   0.285259\n",
            "area_code_area_code_408          0.000000\n"
          ]
        }
      ],
      "source": [
        "#Initializing metric lists\n",
        "\n",
        "model_name = []\n",
        "avg_acc = []\n",
        "max_acc = []\n",
        "AUC_ROC = []\n",
        "AUC_PR = []\n",
        "\n",
        "##StratifiedKFold CV\n",
        "##Decision Tree\n",
        "l=[]\n",
        "name = 'DecisionTree'\n",
        "rocauc_score = []\n",
        "prc_score = []\n",
        "\n",
        "setused=train_new\n",
        "target=y\n",
        "kfold, scores = StratifiedKFold(n_splits=50), list()\n",
        "for train, test in pbar(kfold.split(setused,target)):\n",
        "    x_train, x_test = setused.values[train], setused.values[test]\n",
        "    y_train, y_test = target.values[train], target.values[test] \n",
        "    model = DecisionTreeClassifier(criterion = 'gini', max_depth = 7, random_state=1) #using optimal tree depth\n",
        "    model.fit(x_train, y_train)\n",
        "    preds = model.predict(x_test)\n",
        "    feature_importances = pd.DataFrame(model.feature_importances_,\n",
        "                                       index = setused.columns,\n",
        "                                        columns=['importance'])\n",
        "    sum=feature_importances.values\n",
        "    l.append(sum)\n",
        "    score = balanced_accuracy_score(preds, y_test)\n",
        "    scores.append(score)\n",
        "    roc_auc = roc_auc_score(y_test,model.predict_proba(x_test)[:, 1])\n",
        "    rocauc_score.append(roc_auc)\n",
        "    prc = average_precision_score(y_test,model.predict_proba(x_test)[:, 1], pos_label= 1)\n",
        "    prc_score.append(prc)\n",
        "\n",
        "mean_acc = np.sum(scores)/len(scores)\n",
        "max_accuracy = max(scores)\n",
        "rocauc = np.array(rocauc_score).mean()\n",
        "aucpr = np.array(prc_score).mean()\n",
        "\n",
        "model_name.append(name)\n",
        "avg_acc.append(mean_acc)\n",
        "max_acc.append(max_accuracy)\n",
        "AUC_ROC.append(rocauc)\n",
        "AUC_PR.append(aucpr)\n",
        "\n",
        "print('\\n'+ str(model) + \"Average scores are: \", mean_acc)\n",
        "print(str(model) + \"Max score is: \", max_accuracy,'\\n')\n",
        "print('ROC_AUC - CV Score: {}'.format(rocauc))\n",
        "print('PRC - Score: {}'.format(aucpr),'\\n')\n",
        "print(pd.DataFrame(model.feature_importances_*100, columns = [\"Importance\"], \n",
        "                   index = train_new.columns).sort_values('Importance', ascending=False))\n"
      ]
    },
    {
      "cell_type": "markdown",
      "metadata": {
        "id": "TjRG2dmBOdTD"
      },
      "source": [
        "### Ensemble Model"
      ]
    },
    {
      "cell_type": "code",
      "execution_count": 25,
      "metadata": {
        "id": "UcR705USOhAC"
      },
      "outputs": [],
      "source": [
        "from sklearn.ensemble import BaggingClassifier\n",
        "from sklearn.ensemble import AdaBoostClassifier\n",
        "from sklearn.ensemble import GradientBoostingClassifier\n",
        "from xgboost import XGBClassifier\n",
        "from lightgbm import plot_importance,LGBMClassifier\n",
        "from sklearn.ensemble import RandomForestClassifier\n",
        "from sklearn.neighbors import KNeighborsClassifier\n",
        "from sklearn.linear_model import LogisticRegression"
      ]
    },
    {
      "cell_type": "code",
      "execution_count": null,
      "metadata": {
        "id": "DDeGFL_RQSyD"
      },
      "outputs": [],
      "source": [
        "print(train_new.shape , y.shape)"
      ]
    },
    {
      "cell_type": "code",
      "execution_count": 36,
      "metadata": {
        "colab": {
          "base_uri": "https://localhost:8080/"
        },
        "id": "HKmgfayjkANt",
        "outputId": "b6af68b5-4818-46e2-96ea-9c07ddc6098b"
      },
      "outputs": [
        {
          "name": "stderr",
          "output_type": "stream",
          "text": [
            "| |                                              #  | 229 Elapsed Time: 0:13:48"
          ]
        },
        {
          "name": "stdout",
          "output_type": "stream",
          "text": [
            "\n",
            "KNeighborsClassifier()Average scores are:  0.864214837791882\n",
            "KNeighborsClassifier()Max score is:  0.8885265568764315 \n",
            "\n",
            "ROC_AUC - CV Score: 0.9464674422968662\n",
            "PRC - Score: 0.8695117160827026 \n",
            "\n"
          ]
        }
      ],
      "source": [
        "#KNN Classifier\n",
        "knn = KNeighborsClassifier()\n",
        "name = 'KNN'\n",
        "l=[]\n",
        "rocauc_score = []\n",
        "prc_score = []\n",
        "setused=train_new\n",
        "target=y\n",
        "kfold, scores = StratifiedKFold(n_splits=10), list()\n",
        "for train, test in pbar(kfold.split(setused,target)):\n",
        "    x_train, x_test = setused.values[train], setused.values[test]\n",
        "    y_train, y_test = target.values[train], target.values[test] \n",
        "    model = knn\n",
        "    model.fit(x_train, y_train)\n",
        "    preds = model.predict(x_test)   \n",
        "    score = balanced_accuracy_score(preds, y_test)\n",
        "    scores.append(score)\n",
        "    roc_auc = roc_auc_score(y_test,model.predict_proba(x_test)[:, 1])\n",
        "    rocauc_score.append(roc_auc)\n",
        "    prc = average_precision_score(y_test,model.predict_proba(x_test)[:, 1], pos_label= 1)\n",
        "    prc_score.append(prc)\n",
        "\n",
        "mean_acc = np.sum(scores)/len(scores)\n",
        "max_accuracy = max(scores)\n",
        "rocauc = np.array(rocauc_score).mean()\n",
        "aucpr = np.array(prc_score).mean()\n",
        "\n",
        "model_name.append(name)\n",
        "avg_acc.append(mean_acc)\n",
        "max_acc.append(max_accuracy)\n",
        "AUC_ROC.append(rocauc)\n",
        "AUC_PR.append(aucpr)\n",
        "\n",
        "print('\\n'+ str(model) + \"Average scores are: \", mean_acc)\n",
        "print(str(model) + \"Max score is: \", max_accuracy,'\\n')\n",
        "print('ROC_AUC - CV Score: {}'.format(rocauc))\n",
        "print('PRC - Score: {}'.format(aucpr),'\\n')"
      ]
    },
    {
      "cell_type": "code",
      "execution_count": 37,
      "metadata": {
        "colab": {
          "base_uri": "https://localhost:8080/"
        },
        "id": "TaEOs2bnO29f",
        "outputId": "ab8df032-7866-4803-d91d-6b56f6f0f678"
      },
      "outputs": [
        {
          "name": "stderr",
          "output_type": "stream",
          "text": [
            "| |  #                                              | 239 Elapsed Time: 0:14:22"
          ]
        },
        {
          "name": "stdout",
          "output_type": "stream",
          "text": [
            "\n",
            "BaggingClassifier(n_estimators=100, random_state=1)Average scores are:  0.9445453065052625\n",
            "BaggingClassifier(n_estimators=100, random_state=1)Max score is:  0.9641349175176748 \n",
            "\n",
            "ROC_AUC - CV Score: 0.960421162507037\n",
            "PRC - Score: 0.9173449818277399 \n",
            "\n"
          ]
        }
      ],
      "source": [
        "#Bagging classifier\n",
        "bgcl = BaggingClassifier(n_estimators=100,random_state=1)\n",
        "name = 'Bagging'\n",
        "l=[]\n",
        "setused=train_new\n",
        "target=y\n",
        "kfold, scores = StratifiedKFold(n_splits=10), list()\n",
        "for train, test in pbar(kfold.split(setused,target)):\n",
        "    x_train, x_test = setused.values[train], setused.values[test]\n",
        "    y_train, y_test = target.values[train], target.values[test] \n",
        "    model = bgcl\n",
        "    model.fit(x_train, y_train)\n",
        "    preds = model.predict(x_test)   \n",
        "    score = balanced_accuracy_score(preds, y_test)\n",
        "    scores.append(score)\n",
        "    roc_auc = roc_auc_score(y_test,model.predict_proba(x_test)[:, 1])\n",
        "    rocauc_score.append(roc_auc)\n",
        "    prc = average_precision_score(y_test,model.predict_proba(x_test)[:, 1], pos_label= 1)\n",
        "    prc_score.append(prc)\n",
        "\n",
        "mean_acc = np.sum(scores)/len(scores)\n",
        "max_accuracy = max(scores)\n",
        "rocauc = np.array(rocauc_score).mean()\n",
        "aucpr = np.array(prc_score).mean()\n",
        "\n",
        "model_name.append(name)\n",
        "avg_acc.append(mean_acc)\n",
        "max_acc.append(max_accuracy)\n",
        "AUC_ROC.append(rocauc)\n",
        "AUC_PR.append(aucpr)\n",
        "\n",
        "print('\\n'+ str(model) + \"Average scores are: \", mean_acc)\n",
        "print(str(model) + \"Max score is: \", max_accuracy,'\\n')\n",
        "print('ROC_AUC - CV Score: {}'.format(rocauc))\n",
        "print('PRC - Score: {}'.format(aucpr),'\\n')"
      ]
    },
    {
      "cell_type": "code",
      "execution_count": 38,
      "metadata": {
        "colab": {
          "base_uri": "https://localhost:8080/"
        },
        "id": "BfEaI8xXO27_",
        "outputId": "195171c0-e7f4-4a63-a91b-aa5931e4e18f"
      },
      "outputs": [
        {
          "name": "stderr",
          "output_type": "stream",
          "text": [
            "| |           #                                     | 249 Elapsed Time: 0:14:31"
          ]
        },
        {
          "name": "stdout",
          "output_type": "stream",
          "text": [
            "\n",
            "AdaBoostClassifier(n_estimators=100, random_state=1)Average scores are:  0.8501024949531466\n",
            "AdaBoostClassifier(n_estimators=100, random_state=1)Max score is:  0.9046678720974496 \n",
            "\n",
            "ROC_AUC - CV Score: 0.9467618221054607\n",
            "PRC - Score: 0.8989379116085007 \n",
            "\n"
          ]
        }
      ],
      "source": [
        "#Adaboost\n",
        "abcl = AdaBoostClassifier(n_estimators=100,random_state=1)\n",
        "name = 'AdaBoost'\n",
        "l=[]\n",
        "setused=train_new\n",
        "target=y\n",
        "kfold, scores = StratifiedKFold(n_splits=10), list()\n",
        "for train, test in pbar(kfold.split(setused,target)):\n",
        "    x_train, x_test = setused.values[train], setused.values[test]\n",
        "    y_train, y_test = target.values[train], target.values[test] \n",
        "    model = abcl\n",
        "    model.fit(x_train, y_train)\n",
        "    preds = model.predict(x_test)   \n",
        "    score = balanced_accuracy_score(preds, y_test)\n",
        "    scores.append(score)\n",
        "    roc_auc = roc_auc_score(y_test,model.predict_proba(x_test)[:, 1])\n",
        "    rocauc_score.append(roc_auc)\n",
        "    prc = average_precision_score(y_test,model.predict_proba(x_test)[:, 1], pos_label= 1)\n",
        "    prc_score.append(prc)\n",
        "\n",
        "mean_acc = np.sum(scores)/len(scores)\n",
        "max_accuracy = max(scores)\n",
        "rocauc = np.array(rocauc_score).mean()\n",
        "aucpr = np.array(prc_score).mean()\n",
        "\n",
        "model_name.append(name)\n",
        "avg_acc.append(mean_acc)\n",
        "max_acc.append(max_accuracy)\n",
        "AUC_ROC.append(rocauc)\n",
        "AUC_PR.append(aucpr)\n",
        "\n",
        "print('\\n'+ str(model) + \"Average scores are: \", mean_acc)\n",
        "print(str(model) + \"Max score is: \", max_accuracy,'\\n')\n",
        "print('ROC_AUC - CV Score: {}'.format(rocauc))\n",
        "print('PRC - Score: {}'.format(aucpr),'\\n')"
      ]
    },
    {
      "cell_type": "code",
      "execution_count": 39,
      "metadata": {
        "colab": {
          "base_uri": "https://localhost:8080/"
        },
        "id": "VkGa18CYO25v",
        "outputId": "6e5e5d9e-0729-4c9f-c22f-9e42e88d70cb"
      },
      "outputs": [
        {
          "name": "stderr",
          "output_type": "stream",
          "text": [
            "| |                                            #    | 259 Elapsed Time: 0:14:46"
          ]
        },
        {
          "name": "stdout",
          "output_type": "stream",
          "text": [
            "\n",
            "GradientBoostingClassifier(random_state=1)Average scores are:  0.9356862462329643\n",
            "GradientBoostingClassifier(random_state=1)Max score is:  0.9604327099376604 \n",
            "\n",
            "ROC_AUC - CV Score: 0.9507978161944081\n",
            "PRC - Score: 0.9128940994616175 \n",
            "\n",
            "                               Importance\n",
            "number_customer_service_calls   24.834097\n",
            "total_day_minutes               16.826420\n",
            "international_plan              14.826814\n",
            "total_day_charge                11.697725\n",
            "total_intl_calls                 8.084337\n",
            "total_eve_charge                 6.340189\n",
            "number_vmail_messages            6.278164\n",
            "total_intl_charge                4.747296\n",
            "total_eve_minutes                3.159053\n",
            "total_night_minutes              0.906769\n",
            "state_cat                        0.447239\n",
            "total_intl_minutes               0.384949\n",
            "total_night_charge               0.373922\n",
            "total_day_calls                  0.324610\n",
            "total_eve_calls                  0.320797\n",
            "account_length                   0.260256\n",
            "total_night_calls                0.187363\n",
            "area_code_area_code_408          0.000000\n"
          ]
        }
      ],
      "source": [
        "#GradientBoost\n",
        "gbcl = GradientBoostingClassifier(n_estimators = 100,random_state=1)\n",
        "name = 'GBoost'\n",
        "l=[]\n",
        "setused=train_new\n",
        "target=y\n",
        "kfold, scores = StratifiedKFold(n_splits=10), list()\n",
        "for train, test in pbar(kfold.split(setused,target)):\n",
        "    x_train, x_test = setused.values[train], setused.values[test]\n",
        "    y_train, y_test = target.values[train], target.values[test] \n",
        "    model = gbcl\n",
        "    model.fit(x_train, y_train)\n",
        "    preds = model.predict(x_test) \n",
        "    feature_importances = pd.DataFrame(model.feature_importances_,\n",
        "                                       index = setused.columns,\n",
        "                                        columns=['importance'])\n",
        "    sum=feature_importances.values\n",
        "    l.append(sum)  \n",
        "    score = balanced_accuracy_score(preds, y_test)\n",
        "    scores.append(score)\n",
        "    roc_auc = roc_auc_score(y_test,model.predict_proba(x_test)[:, 1])\n",
        "    rocauc_score.append(roc_auc)\n",
        "    prc = average_precision_score(y_test,model.predict_proba(x_test)[:, 1], pos_label= 1)\n",
        "    prc_score.append(prc)\n",
        "\n",
        "mean_acc = np.sum(scores)/len(scores)\n",
        "max_accuracy = max(scores)\n",
        "rocauc = np.array(rocauc_score).mean()\n",
        "aucpr = np.array(prc_score).mean()\n",
        "\n",
        "model_name.append(name)\n",
        "avg_acc.append(mean_acc)\n",
        "max_acc.append(max_accuracy)\n",
        "AUC_ROC.append(rocauc)\n",
        "AUC_PR.append(aucpr)\n",
        "\n",
        "print('\\n'+ str(model) + \"Average scores are: \", mean_acc)\n",
        "print(str(model) + \"Max score is: \", max_accuracy,'\\n')\n",
        "print('ROC_AUC - CV Score: {}'.format(rocauc))\n",
        "print('PRC - Score: {}'.format(aucpr),'\\n')\n",
        "\n",
        "print(pd.DataFrame(model.feature_importances_*100, columns = [\"Importance\"], \n",
        "                   index = train_new.columns).sort_values('Importance', ascending=False))\n"
      ]
    },
    {
      "cell_type": "code",
      "execution_count": 40,
      "metadata": {
        "colab": {
          "base_uri": "https://localhost:8080/"
        },
        "id": "jp00KlO5O2z7",
        "outputId": "6c2391af-3232-4d09-bf2c-ea1d7160c42c"
      },
      "outputs": [
        {
          "name": "stderr",
          "output_type": "stream",
          "text": [
            "| |        #                                        | 269 Elapsed Time: 0:14:52"
          ]
        },
        {
          "name": "stdout",
          "output_type": "stream",
          "text": [
            "\n",
            "XGBClassifier()Average scores are:  0.9348595564161675\n",
            "XGBClassifier()Max score is:  0.9548583048726438 \n",
            "\n",
            "ROC_AUC - CV Score: 0.9529477857008818\n",
            "PRC - Score: 0.9208298754245243 \n",
            "\n",
            "                               Importance\n",
            "international_plan              15.779133\n",
            "number_customer_service_calls   15.182866\n",
            "total_eve_charge                11.907166\n",
            "total_intl_charge               11.102352\n",
            "total_day_minutes                9.814936\n",
            "total_day_charge                 7.731297\n",
            "number_vmail_messages            6.874390\n",
            "total_eve_minutes                5.714870\n",
            "total_intl_calls                 5.348503\n",
            "total_intl_minutes               2.906877\n",
            "total_night_minutes              2.453982\n",
            "state_cat                        1.550531\n",
            "total_eve_calls                  1.106173\n",
            "account_length                   1.027383\n",
            "total_day_calls                  0.807704\n",
            "total_night_calls                0.691838\n",
            "total_night_charge               0.000000\n",
            "area_code_area_code_408          0.000000\n"
          ]
        }
      ],
      "source": [
        "#XGBoost\n",
        "xgb = XGBClassifier()\n",
        "name = 'XGBoost'\n",
        "l=[]\n",
        "setused=train_new\n",
        "target=y\n",
        "kfold, scores = StratifiedKFold(n_splits=10), list()\n",
        "for train, test in pbar(kfold.split(setused,target)):\n",
        "    x_train, x_test = setused.values[train], setused.values[test]\n",
        "    y_train, y_test = target.values[train], target.values[test] \n",
        "    model = xgb\n",
        "    model.fit(x_train, y_train)\n",
        "    preds = model.predict(x_test)  \n",
        "    feature_importances = pd.DataFrame(model.feature_importances_,\n",
        "                                       index = setused.columns,\n",
        "                                        columns=['importance'])\n",
        "    sum=feature_importances.values\n",
        "    l.append(sum) \n",
        "    score = balanced_accuracy_score(preds, y_test)\n",
        "    scores.append(score)\n",
        "    roc_auc = roc_auc_score(y_test,model.predict_proba(x_test)[:, 1])\n",
        "    rocauc_score.append(roc_auc)\n",
        "    prc = average_precision_score(y_test,model.predict_proba(x_test)[:, 1], pos_label= 1)\n",
        "    prc_score.append(prc)\n",
        "\n",
        "mean_acc = np.sum(scores)/len(scores)\n",
        "max_accuracy = max(scores)\n",
        "rocauc = np.array(rocauc_score).mean()\n",
        "aucpr = np.array(prc_score).mean()\n",
        "\n",
        "model_name.append(name)\n",
        "avg_acc.append(mean_acc)\n",
        "max_acc.append(max_accuracy)\n",
        "AUC_ROC.append(rocauc)\n",
        "AUC_PR.append(aucpr)\n",
        "\n",
        "print('\\n'+ str(model) + \"Average scores are: \", mean_acc)\n",
        "print(str(model) + \"Max score is: \", max_accuracy,'\\n')\n",
        "print('ROC_AUC - CV Score: {}'.format(rocauc))\n",
        "print('PRC - Score: {}'.format(aucpr),'\\n')\n",
        "\n",
        "print(pd.DataFrame(model.feature_importances_*100, columns = [\"Importance\"], \n",
        "                   index = train_new.columns).sort_values('Importance', ascending=False))"
      ]
    },
    {
      "cell_type": "code",
      "execution_count": 41,
      "metadata": {
        "colab": {
          "base_uri": "https://localhost:8080/"
        },
        "id": "joIMy_oKSfos",
        "outputId": "7197a682-1d5a-4740-ae0b-b763a27b4d39"
      },
      "outputs": [
        {
          "name": "stderr",
          "output_type": "stream",
          "text": [
            "| |                                          #      | 279 Elapsed Time: 0:15:15"
          ]
        },
        {
          "name": "stdout",
          "output_type": "stream",
          "text": [
            "\n",
            "RandomForestClassifier(max_features=12, random_state=1)Average scores are:  0.9470336142636386\n",
            "RandomForestClassifier(max_features=12, random_state=1)Max score is:  0.9678910390730926 \n",
            "\n",
            "ROC_AUC - CV Score: 0.9568180396572215\n",
            "PRC - Score: 0.9286170790068501 \n",
            "\n",
            "                               Importance\n",
            "number_customer_service_calls   17.326628\n",
            "total_day_minutes               15.097849\n",
            "total_day_charge                11.904932\n",
            "international_plan              11.536412\n",
            "total_intl_calls                 6.032068\n",
            "total_eve_minutes                5.925540\n",
            "total_eve_charge                 5.210059\n",
            "number_vmail_messages            4.849410\n",
            "total_intl_minutes               3.623276\n",
            "total_intl_charge                3.468319\n",
            "total_night_minutes              2.659204\n",
            "total_night_charge               2.506024\n",
            "account_length                   2.101346\n",
            "total_day_calls                  1.921833\n",
            "state_cat                        1.919027\n",
            "total_night_calls                1.892748\n",
            "total_eve_calls                  1.766153\n",
            "area_code_area_code_408          0.259172\n"
          ]
        }
      ],
      "source": [
        "#RandomForest Classifier\n",
        "rfcl = RandomForestClassifier(random_state=1,max_features=12)\n",
        "name = 'RandomForest'\n",
        "l=[]\n",
        "setused=train_new\n",
        "target=y\n",
        "kfold, scores = StratifiedKFold(n_splits=10), list()\n",
        "for train, test in pbar(kfold.split(setused,target)):\n",
        "    x_train, x_test = setused.values[train], setused.values[test]\n",
        "    y_train, y_test = target.values[train], target.values[test] \n",
        "    model = rfcl \n",
        "    model.fit(x_train, y_train)\n",
        "    preds = model.predict(x_test) \n",
        "    feature_importances = pd.DataFrame(model.feature_importances_,\n",
        "                                       index = setused.columns,\n",
        "                                        columns=['importance'])\n",
        "    sum=feature_importances.values\n",
        "    l.append(sum) \n",
        "    score = balanced_accuracy_score(preds, y_test)\n",
        "    scores.append(score)\n",
        "    roc_auc = roc_auc_score(y_test,model.predict_proba(x_test)[:, 1])\n",
        "    rocauc_score.append(roc_auc)\n",
        "    prc = average_precision_score(y_test,model.predict_proba(x_test)[:, 1], pos_label= 1)\n",
        "    prc_score.append(prc)\n",
        "\n",
        "mean_acc = np.sum(scores)/len(scores)\n",
        "max_accuracy = max(scores)\n",
        "rocauc = np.array(rocauc_score).mean()\n",
        "aucpr = np.array(prc_score).mean()\n",
        "\n",
        "model_name.append(name)\n",
        "avg_acc.append(mean_acc)\n",
        "max_acc.append(max_accuracy)\n",
        "AUC_ROC.append(rocauc)\n",
        "AUC_PR.append(aucpr)\n",
        "\n",
        "print('\\n'+ str(model) + \"Average scores are: \", mean_acc)\n",
        "print(str(model) + \"Max score is: \", max_accuracy,'\\n')\n",
        "print('ROC_AUC - CV Score: {}'.format(rocauc))\n",
        "print('PRC - Score: {}'.format(aucpr),'\\n')\n",
        "\n",
        "print(pd.DataFrame(model.feature_importances_*100, columns = [\"Importance\"], \n",
        "                   index = train_new.columns).sort_values('Importance', ascending=False))"
      ]
    },
    {
      "cell_type": "code",
      "execution_count": 42,
      "metadata": {
        "colab": {
          "base_uri": "https://localhost:8080/"
        },
        "id": "adsX2doRhawU",
        "outputId": "37f461a2-4471-43d3-a7ed-37529ae36a15"
      },
      "outputs": [
        {
          "name": "stderr",
          "output_type": "stream",
          "text": [
            "| |                     #                           | 289 Elapsed Time: 0:15:19"
          ]
        },
        {
          "name": "stdout",
          "output_type": "stream",
          "text": [
            "\n",
            "LGBMClassifier(random_state=1)Average scores are:  0.9572775504246949\n",
            "LGBMClassifier(random_state=1)Max score is:  0.9810799319727891 \n",
            "\n",
            "ROC_AUC - CV Score: 0.9598765514837948\n",
            "PRC - Score: 0.9351273885007371 \n",
            "\n",
            "                               Importance\n",
            "total_day_minutes                   45500\n",
            "total_eve_minutes                   32900\n",
            "total_intl_calls                    27000\n",
            "total_night_minutes                 25100\n",
            "number_customer_service_calls       23500\n",
            "total_intl_minutes                  19900\n",
            "total_eve_calls                     19300\n",
            "account_length                      18500\n",
            "total_night_calls                   17100\n",
            "total_day_calls                     16000\n",
            "state_cat                           15900\n",
            "number_vmail_messages               13500\n",
            "international_plan                   7200\n",
            "total_eve_charge                     6900\n",
            "total_night_charge                   4600\n",
            "total_intl_charge                    4600\n",
            "total_day_charge                     1300\n",
            "area_code_area_code_408              1200\n"
          ]
        }
      ],
      "source": [
        "#LGBMClassifier\n",
        "lgbm = LGBMClassifier(random_state=1)\n",
        "name = 'LGBM'\n",
        "l=[]\n",
        "setused=train_new\n",
        "target=y\n",
        "kfold, scores = StratifiedKFold(n_splits=10), list()\n",
        "for train, test in pbar(kfold.split(setused,target)):\n",
        "    x_train, x_test = setused.values[train], setused.values[test]\n",
        "    y_train, y_test = target.values[train], target.values[test] \n",
        "    model = lgbm\n",
        "    model.fit(x_train, y_train)\n",
        "    preds = model.predict(x_test)\n",
        "    feature_importances = pd.DataFrame(model.feature_importances_,\n",
        "                                       index = setused.columns,\n",
        "                                        columns=['importance'])\n",
        "    sum=feature_importances.values\n",
        "    l.append(sum)   \n",
        "    score = balanced_accuracy_score(preds, y_test)\n",
        "    scores.append(score)\n",
        "    roc_auc = roc_auc_score(y_test,model.predict_proba(x_test)[:, 1])\n",
        "    rocauc_score.append(roc_auc)\n",
        "    prc = average_precision_score(y_test,model.predict_proba(x_test)[:, 1], pos_label= 1)\n",
        "    prc_score.append(prc)\n",
        "\n",
        "mean_acc = np.sum(scores)/len(scores)\n",
        "max_accuracy = max(scores)\n",
        "rocauc = np.array(rocauc_score).mean()\n",
        "aucpr = np.array(prc_score).mean()\n",
        "\n",
        "model_name.append(name)\n",
        "avg_acc.append(mean_acc)\n",
        "max_acc.append(max_accuracy)\n",
        "AUC_ROC.append(rocauc)\n",
        "AUC_PR.append(aucpr)\n",
        "\n",
        "print('\\n'+ str(model) + \"Average scores are: \", mean_acc)\n",
        "print(str(model) + \"Max score is: \", max_accuracy,'\\n')\n",
        "print('ROC_AUC - CV Score: {}'.format(rocauc))\n",
        "print('PRC - Score: {}'.format(aucpr),'\\n')\n",
        "\n",
        "print(pd.DataFrame(model.feature_importances_*100, columns = [\"Importance\"], \n",
        "                   index = train_new.columns).sort_values('Importance', ascending=False))"
      ]
    },
    {
      "cell_type": "markdown",
      "metadata": {
        "id": "dce-ENf-CyuE"
      },
      "source": [
        "#### Confusion Matrix"
      ]
    },
    {
      "cell_type": "code",
      "execution_count": null,
      "metadata": {
        "colab": {
          "base_uri": "https://localhost:8080/",
          "height": 356
        },
        "id": "QNhrEoi8ONDJ",
        "outputId": "d2d06888-9420-427b-c249-c54a6a8ee84f"
      },
      "outputs": [
        {
          "name": "stdout",
          "output_type": "stream",
          "text": [
            "0.9714113257243195\n"
          ]
        },
        {
          "data": {
            "text/plain": [
              "<matplotlib.axes._subplots.AxesSubplot at 0x7f2e75e62310>"
            ]
          },
          "execution_count": 42,
          "metadata": {},
          "output_type": "execute_result"
        },
        {
          "data": {
            "image/png": "[encoded data removed]",
            "text/plain": [
              "<Figure size 504x360 with 2 Axes>"
            ]
          },
          "metadata": {},
          "output_type": "display_data"
        }
      ],
      "source": [
        "X_train, X_test, y_train, y_test = train_test_split(train_new, y, test_size = 0.3, random_state = 0)\n",
        "lgbm.fit(X_train, y_train)\n",
        "y_predict = lgbm.predict(X_test)\n",
        "print(balanced_accuracy_score(y_predict, y_test))\n",
        "\n",
        "cm=metrics.confusion_matrix(y_test, y_predict,labels=[-1, 1])\n",
        "\n",
        "df_cm = pd.DataFrame(cm, index = [i for i in [\"No\",\"Yes\"]],\n",
        "                  columns = [i for i in [\"Predicted No\",\" Predicted Yes\"]])\n",
        "plt.figure(figsize = (7,5))\n",
        "sns.heatmap(df_cm, annot=True ,fmt='g')\n"
      ]
    },
    {
      "cell_type": "markdown",
      "metadata": {
        "id": "QfA3TOOUetBP"
      },
      "source": [
        "### Performance metric table"
      ]
    },
    {
      "cell_type": "code",
      "execution_count": 43,
      "metadata": {
        "colab": {
          "base_uri": "https://localhost:8080/"
        },
        "id": "-eoVj0ulet2G",
        "outputId": "6341c286-b6e3-41b2-b0fe-1c6995fe5fe8"
      },
      "outputs": [
        {
          "name": "stdout",
          "output_type": "stream",
          "text": [
            "              Avg. Acc.  Max. Acc   AUC-ROC    AUC-PR\n",
            "LGBM           0.957278  0.981080  0.959877  0.935127\n",
            "RandomForest   0.947034  0.967891  0.956818  0.928617\n",
            "Bagging        0.944545  0.964135  0.960421  0.917345\n",
            "GBoost         0.935686  0.960433  0.950798  0.912894\n",
            "XGBoost        0.934860  0.954858  0.952948  0.920830\n",
            "DecisionTree   0.924498  0.975410  0.897702  0.859470\n",
            "KNN            0.864215  0.888527  0.946467  0.869512\n",
            "AdaBoost       0.850102  0.904668  0.946762  0.898938\n"
          ]
        }
      ],
      "source": [
        "data = {'Avg. Acc.': avg_acc,\n",
        "        'Max. Acc': max_acc,\n",
        "        'AUC-ROC': AUC_ROC,\n",
        "        'AUC-PR': AUC_PR}\n",
        "\n",
        "perf_df = pd.DataFrame(data, index=model_name)\n",
        "print(perf_df.sort_values('Avg. Acc.', ascending=False))"
      ]
    },
    {
      "cell_type": "markdown",
      "metadata": {
        "id": "T-OcqymKzHnX"
      },
      "source": [
        "### Hypertuning"
      ]
    },
    {
      "cell_type": "code",
      "execution_count": 44,
      "metadata": {
        "colab": {
          "base_uri": "https://localhost:8080/"
        },
        "id": "0konptpHzKD2",
        "outputId": "a3a7376f-9a63-4f0c-c072-7a63184676b5"
      },
      "outputs": [
        {
          "name": "stdout",
          "output_type": "stream",
          "text": [
            "Fitting 10 folds for each of 72 candidates, totalling 720 fits\n",
            "lgbm 0.9455479452054796\n",
            "lgbm {'learning_rate': 0.1, 'max_depth': -1, 'n_estimators': 200, 'reg_lambda': 1}\n",
            "Fitting 10 folds for each of 16 candidates, totalling 160 fits\n",
            "rfc 0.9445205479452057\n",
            "rfc {'max_depth': 0, 'n_estimators': 200}\n"
          ]
        }
      ],
      "source": [
        "from sklearn.model_selection import GridSearchCV\n",
        "lgbm_pars = { 'reg_lambda': [0,1],\n",
        "              'learning_rate': [0.03,0.05,0.1], \n",
        "              'max_depth': [-1,1,3,5],\n",
        "              'n_estimators': [50,100,200]}\n",
        "\n",
        "lgbm_grid = GridSearchCV(lgbm,\n",
        "                        lgbm_pars,\n",
        "                        cv = 10,\n",
        "                        n_jobs = 5,\n",
        "                        verbose=True,scoring='balanced_accuracy')\n",
        "\n",
        "lgbm_grid.fit(train_new,y)\n",
        "print('lgbm',lgbm_grid.best_score_)\n",
        "print('lgbm',lgbm_grid.best_params_)\n",
        "\n",
        "rfc_pars = {  \n",
        "              'max_depth': [0,1,2,3],\n",
        "              'n_estimators': [50,100,150,200]}\n",
        "\n",
        "rfc_grid = GridSearchCV(lgbm,\n",
        "                        rfc_pars,\n",
        "                        cv = 10,\n",
        "                        n_jobs = 5,\n",
        "                        verbose=True,scoring='balanced_accuracy')\n",
        "\n",
        "rfc_grid.fit(train_new,y)\n",
        "print('rfc',rfc_grid.best_score_)\n",
        "print('rfc',rfc_grid.best_params_)\n",
        "\n"
      ]
    },
    {
      "cell_type": "markdown",
      "metadata": {
        "id": "k5Rfm1rFUy2k"
      },
      "source": [
        "### Stacking"
      ]
    },
    {
      "cell_type": "code",
      "execution_count": 45,
      "metadata": {
        "id": "Fcl0_59bVGmy"
      },
      "outputs": [],
      "source": [
        "from sklearn.ensemble import StackingClassifier"
      ]
    },
    {
      "cell_type": "code",
      "execution_count": 46,
      "metadata": {
        "id": "O0OaC4FvUyji"
      },
      "outputs": [],
      "source": [
        "dtc =  DecisionTreeClassifier(random_state=1)\n",
        "bgc = BaggingClassifier(n_estimators=200,random_state=1)\n",
        "rfc = RandomForestClassifier(n_estimators=200,random_state=1)\n",
        "gbc = GradientBoostingClassifier(n_estimators=200,random_state=1)\n",
        "xgb = XGBClassifier(n_estimators=200,random_state=1)\n",
        "lgbm = LGBMClassifier(n_estimators=200,random_state=1)\n",
        "clf = [('lgbm',lgbm),('gbc',gbc),('xgb',xgb),('bgc', bgc)] #list of (str, estimator)"
      ]
    },
    {
      "cell_type": "code",
      "execution_count": 48,
      "metadata": {
        "colab": {
          "base_uri": "https://localhost:8080/"
        },
        "id": "5Y4KMJV-UybP",
        "outputId": "d3e1ac3b-929c-4be8-cb9f-bdb762f76900"
      },
      "outputs": [
        {
          "name": "stdout",
          "output_type": "stream",
          "text": [
            "The final accuracy score is:  0.9479452054794522\n"
          ]
        }
      ],
      "source": [
        "stack_model = StackingClassifier( estimators = clf,final_estimator = rfc)\n",
        "score = cross_val_score(stack_model,train_new,y,cv = 10,scoring = 'balanced_accuracy')\n",
        "print(\"The final accuracy score is: \",score.mean())"
      ]
    },
    {
      "cell_type": "code",
      "execution_count": null,
      "metadata": {
        "id": "pGtgmqZOxj8w"
      },
      "outputs": [],
      "source": [
        "test_new.info()"
      ]
    },
    {
      "cell_type": "markdown",
      "metadata": {
        "id": "VxPdv3qnSrrQ"
      },
      "source": [
        "### Creating the submisssion prediction file"
      ]
    },
    {
      "cell_type": "code",
      "execution_count": null,
      "metadata": {
        "id": "JJdwC25ESqp5"
      },
      "outputs": [],
      "source": [
        "lgbm = LGBMClassifier(learning_rate= 0.05, max_depth= 10, n_estimators= 200, reg_lambda= 1,random_state=1)\n",
        "lgbm.fit(train_new,y)\n",
        "final_pred = pd.DataFrame(lgbm.predict(test_new), columns=['churn'])\n",
        "final_pred[\"id\"] = final_pred.index + 1\n",
        "cols = ['id', 'churn']\n",
        "final_pred = final_pred[cols]"
      ]
    },
    {
      "cell_type": "code",
      "execution_count": null,
      "metadata": {
        "colab": {
          "base_uri": "https://localhost:8080/",
          "height": 424
        },
        "id": "IfiSWfVB3q79",
        "outputId": "f5dad762-eadb-48b3-d8fe-ca6e34a4dea0"
      },
      "outputs": [
        {
          "data": {
            "text/html": [
              "\n",
              "  <div id=\"df-74a7e7c3-0391-4182-b927-2affd0abab73\">\n",
              "    <div class=\"colab-df-container\">\n",
              "      <div>\n",
              "<style scoped>\n",
              "    .dataframe tbody tr th:only-of-type {\n",
              "        vertical-align: middle;\n",
              "    }\n",
              "\n",
              "    .dataframe tbody tr th {\n",
              "        vertical-align: top;\n",
              "    }\n",
              "\n",
              "    .dataframe thead th {\n",
              "        text-align: right;\n",
              "    }\n",
              "</style>\n",
              "<table border=\"1\" class=\"dataframe\">\n",
              "  <thead>\n",
              "    <tr style=\"text-align: right;\">\n",
              "      <th></th>\n",
              "      <th>id</th>\n",
              "      <th>churn</th>\n",
              "    </tr>\n",
              "  </thead>\n",
              "  <tbody>\n",
              "    <tr>\n",
              "      <th>0</th>\n",
              "      <td>1</td>\n",
              "      <td>no</td>\n",
              "    </tr>\n",
              "    <tr>\n",
              "      <th>1</th>\n",
              "      <td>2</td>\n",
              "      <td>no</td>\n",
              "    </tr>\n",
              "    <tr>\n",
              "      <th>2</th>\n",
              "      <td>3</td>\n",
              "      <td>yes</td>\n",
              "    </tr>\n",
              "    <tr>\n",
              "      <th>3</th>\n",
              "      <td>4</td>\n",
              "      <td>yes</td>\n",
              "    </tr>\n",
              "    <tr>\n",
              "      <th>4</th>\n",
              "      <td>5</td>\n",
              "      <td>yes</td>\n",
              "    </tr>\n",
              "    <tr>\n",
              "      <th>...</th>\n",
              "      <td>...</td>\n",
              "      <td>...</td>\n",
              "    </tr>\n",
              "    <tr>\n",
              "      <th>745</th>\n",
              "      <td>746</td>\n",
              "      <td>no</td>\n",
              "    </tr>\n",
              "    <tr>\n",
              "      <th>746</th>\n",
              "      <td>747</td>\n",
              "      <td>no</td>\n",
              "    </tr>\n",
              "    <tr>\n",
              "      <th>747</th>\n",
              "      <td>748</td>\n",
              "      <td>no</td>\n",
              "    </tr>\n",
              "    <tr>\n",
              "      <th>748</th>\n",
              "      <td>749</td>\n",
              "      <td>no</td>\n",
              "    </tr>\n",
              "    <tr>\n",
              "      <th>749</th>\n",
              "      <td>750</td>\n",
              "      <td>no</td>\n",
              "    </tr>\n",
              "  </tbody>\n",
              "</table>\n",
              "<p>750 rows × 2 columns</p>\n",
              "</div>\n",
              "      <button class=\"colab-df-convert\" onclick=\"convertToInteractive('df-74a7e7c3-0391-4182-b927-2affd0abab73')\"\n",
              "              title=\"Convert this dataframe to an interactive table.\"\n",
              "              style=\"display:none;\">\n",
              "        \n",
              "  <svg xmlns=\"http://www.w3.org/2000/svg\" height=\"24px\"viewBox=\"0 0 24 24\"\n",
              "       width=\"24px\">\n",
              "    <path d=\"M0 0h24v24H0V0z\" fill=\"none\"/>\n",
              "    <path d=\"M18.56 5.44l.94 2.06.94-2.06 2.06-.94-2.06-.94-.94-2.06-.94 2.06-2.06.94zm-11 1L8.5 8.5l.94-2.06 2.06-.94-2.06-.94L8.5 2.5l-.94 2.06-2.06.94zm10 10l.94 2.06.94-2.06 2.06-.94-2.06-.94-.94-2.06-.94 2.06-2.06.94z\"/><path d=\"M17.41 7.96l-1.37-1.37c-.4-.4-.92-.59-1.43-.59-.52 0-1.04.2-1.43.59L10.3 9.45l-7.72 7.72c-.78.78-.78 2.05 0 2.83L4 21.41c.39.39.9.59 1.41.59.51 0 1.02-.2 1.41-.59l7.78-7.78 2.81-2.81c.8-.78.8-2.07 0-2.86zM5.41 20L4 18.59l7.72-7.72 1.47 1.35L5.41 20z\"/>\n",
              "  </svg>\n",
              "      </button>\n",
              "      \n",
              "  <style>\n",
              "    .colab-df-container {\n",
              "      display:flex;\n",
              "      flex-wrap:wrap;\n",
              "      gap: 12px;\n",
              "    }\n",
              "\n",
              "    .colab-df-convert {\n",
              "      background-color: #E8F0FE;\n",
              "      border: none;\n",
              "      border-radius: 50%;\n",
              "      cursor: pointer;\n",
              "      display: none;\n",
              "      fill: #1967D2;\n",
              "      height: 32px;\n",
              "      padding: 0 0 0 0;\n",
              "      width: 32px;\n",
              "    }\n",
              "\n",
              "    .colab-df-convert:hover {\n",
              "      background-color: #E2EBFA;\n",
              "      box-shadow: 0px 1px 2px rgba(60, 64, 67, 0.3), 0px 1px 3px 1px rgba(60, 64, 67, 0.15);\n",
              "      fill: #174EA6;\n",
              "    }\n",
              "\n",
              "    [theme=dark] .colab-df-convert {\n",
              "      background-color: #3B4455;\n",
              "      fill: #D2E3FC;\n",
              "    }\n",
              "\n",
              "    [theme=dark] .colab-df-convert:hover {\n",
              "      background-color: #434B5C;\n",
              "      box-shadow: 0px 1px 3px 1px rgba(0, 0, 0, 0.15);\n",
              "      filter: drop-shadow(0px 1px 2px rgba(0, 0, 0, 0.3));\n",
              "      fill: #FFFFFF;\n",
              "    }\n",
              "  </style>\n",
              "\n",
              "      <script>\n",
              "        const buttonEl =\n",
              "          document.querySelector('#df-74a7e7c3-0391-4182-b927-2affd0abab73 button.colab-df-convert');\n",
              "        buttonEl.style.display =\n",
              "          google.colab.kernel.accessAllowed ? 'block' : 'none';\n",
              "\n",
              "        async function convertToInteractive(key) {\n",
              "          const element = document.querySelector('#df-74a7e7c3-0391-4182-b927-2affd0abab73');\n",
              "          const dataTable =\n",
              "            await google.colab.kernel.invokeFunction('convertToInteractive',\n",
              "                                                     [key], {});\n",
              "          if (!dataTable) return;\n",
              "\n",
              "          const docLinkHtml = 'Like what you see? Visit the ' +\n",
              "            '<a target=\"_blank\" href=https://colab.research.google.com/notebooks/data_table.ipynb>data table notebook</a>'\n",
              "            + ' to learn more about interactive tables.';\n",
              "          element.innerHTML = '';\n",
              "          dataTable['output_type'] = 'display_data';\n",
              "          await google.colab.output.renderOutput(dataTable, element);\n",
              "          const docLink = document.createElement('div');\n",
              "          docLink.innerHTML = docLinkHtml;\n",
              "          element.appendChild(docLink);\n",
              "        }\n",
              "      </script>\n",
              "    </div>\n",
              "  </div>\n",
              "  "
            ],
            "text/plain": [
              "      id churn\n",
              "0      1    no\n",
              "1      2    no\n",
              "2      3   yes\n",
              "3      4   yes\n",
              "4      5   yes\n",
              "..   ...   ...\n",
              "745  746    no\n",
              "746  747    no\n",
              "747  748    no\n",
              "748  749    no\n",
              "749  750    no\n",
              "\n",
              "[750 rows x 2 columns]"
            ]
          },
          "execution_count": 121,
          "metadata": {},
          "output_type": "execute_result"
        }
      ],
      "source": [
        "final_pred"
      ]
    },
    {
      "cell_type": "code",
      "execution_count": null,
      "metadata": {
        "id": "-dba9-wKTVWX"
      },
      "outputs": [],
      "source": [
        "final_pred.to_csv('Pred.csv', index = False)"
      ]
    }
  ],
  "metadata": {
    "accelerator": "GPU",
    "colab": {
      "collapsed_sections": [
        "GfhcGUfMUUdU",
        "8NFLlAKbYWhN",
        "Gjfx9k8GDRot"
      ],
      "provenance": [],
      "toc_visible": true
    },
    "gpuClass": "standard",
    "kernelspec": {
      "display_name": "Python 3",
      "name": "python3"
    }
  },
  "nbformat": 4,
  "nbformat_minor": 0
}
